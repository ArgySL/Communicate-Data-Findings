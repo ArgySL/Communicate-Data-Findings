{
 "cells": [
  {
   "cell_type": "markdown",
   "metadata": {},
   "source": [
    "# \"Communicate Data Findings\" Project: Telling a Pokemon Story!\n",
    "##                                        by (Argyrios Liatsis)\n",
    "## Table of Contents\n",
    "\n",
    "<ul>\n",
    "    <li><a href = \"#intro\">1) Introduction </a></li>\n",
    "    <li><a href = \"#wra\"> 2) Preliminary Wrangling </a></li>\n",
    "    <li><a href = \"#uni\"> 3) Univariate Analysis </a></li>\n",
    "    <li><a href = \"#bi\"> 4) Bivariate Analysis </a></li>\n",
    "    <li><a href = \"#multi\"> 5) Multivariate Analysis </a></li>\n",
    "    <li><a href = \"edar\"> 6) Exploratory Data Analysis Results </a></li>\n",
    "    <li><a href = \"#con\"> 7) Conclusion </a></li>\n",
    "    <li><a href = \"#app\"> 8) Appendix </a></li>\n",
    "</ul>\n"
   ]
  },
  {
   "cell_type": "markdown",
   "metadata": {},
   "source": [
    "<a id='intro'></a>\n",
    "## 1) Introduction\n",
    "\n",
    "The motivation behind the choice of this specific dataset is the fact that the writer grew up with Pokemon as a kid, and was further inspired by Mr. Mike Yi's spectacular Visualisation course with a very similar dataset used as an example. After scouring the web for similar datasets, this particular Pokemon dataset, provided by Kaggle user Alberto Barradas, was selected. The link containing the original dataframe is included in the \"Appendix\" section.\n"
   ]
  },
  {
   "cell_type": "markdown",
   "metadata": {},
   "source": [
    "<a id='wra'></a>\n",
    "## 2) Preliminary Wrangling\n",
    "\n",
    "\n",
    "This dataset includes 800 Pokemon, in other words, 800 data observations, as well as eleven(11) features, at least one of which is categorical, and last, but not least, this is a tidy dataset (each variable is a column, each observation is a row). All the aforementioned characteristics of this dataset  are in adherence to the minimum requirements for a custom dataset required for this project. "
   ]
  },
  {
   "cell_type": "markdown",
   "metadata": {},
   "source": [
    "### 2.1) Dataset Structure\n",
    "\n",
    "The dataset of interest includes eleven(11) features, namely \"Name\", \"Type 1\", \"Type 2\", \"Total\", \"HP\", \"Attack\", \"Defense\", \"Sp. Atk\", \"Sp. Def\", \"Speed\", \"Generation, and \"Legendary\". Approximately half of the values of \"Type 2\" feature are null, which is intended. \n",
    "\n",
    "These are the raw attributes that are used for calculating how much damage a Pokemon move will do . This dataset contains data about the pokemon present in handheld console games, excluding pokemon card games and Pokemon Go. Below is a quick synopsis of the dataset's features:\n",
    "\n",
    "#: ID for each pokemon\n",
    " - Name: Name of each pokemon\n",
    " - Type 1: Each pokemon has a type, this determines weakness/resistance to attacks\n",
    " - Type 2: Some pokemon are characterized by two types\n",
    " - Total: The total sum of pokemon stats; an overview of how strong a Pokemon is\n",
    " - HP: Health Points, or Health, defines how much damage a pokemon can withstand before fainting\n",
    " - Attack: the base modifier for normal attacks (eg. Scratch, Punch, Tackle, etc.)\n",
    " - Defense: the base damage resistance against normal attacks\n",
    " - SP Atk: special attack, the base modifier for attacks that generally don't require bodily contact (e.g. Flamethrower, Solarbeam, etc.)\n",
    " - SP Def: the base damage resistance against special attacks\n",
    " - Speed: determines which pokemon attacks first each round\n",
    "\n",
    "\n",
    "### 2.2) Features of Interest\n",
    "\n",
    "   \n",
    "\n",
    "Most of the feature names are self-explanatory, however providing a brief explanation is the best practice, especially for someone who is not familiar with Pokemon. To elaborate, every Pokemon has a type, with many of them having two types. The \"type\" determines how strong they are against pokemon of other types. For instance, a \"fire\" pokemon has the advantage against a pokemon of \"grass\" type, whereas it is weak against a pokemon of the \"water\" type; akin to a rock-paper-scissors case. \"HP\" stands for \"Health Points\" which indicates how healthy a pokemon; the more, the merrier. \"Sp. Atk\", also known as \"Special Attack\" is an attribute that is used when a Pokemon attacks with a move that doesn't have include direct body contact (as opposed to \"Attack\"), like fire attacks, psychic attacks, etc. and \"Sp. Def\", or \"Special Defense\", is used for for defending against that.\n",
    "\n",
    "Since this dataset does not contain a vast amount of features, almost all of them are considered to be of interest.\n",
    "\n",
    "\n",
    "### 2.3) Focused Features\n",
    "\n",
    "\n",
    "The focused features that most of the exploratory analysis takes place on are \"Speed\", \"Attack, \"Sp. Atk\", \"Total\", \"Legendary\", \"Generation\", and last, but not least, the engineered feature \"agility_level\". The \"Speed\" characteristic is important, since Pokemon games are for their vast majority turn-based, thus the pokemon with the highest speed stat always goes first. Next, \"Attack\" and \"Sp. Atack\"(special attack) are the offensive attributes of a Pokemon; they determine the damage they deal, while \"total\" summarises their attributes to showcase how strong a Pokemon is. \"Legendary\" defines the one-of-a-kind Pokemon, those that are the sole representative of their species. \"Type_1\" is the type of a Pokemon (Fire, Water,etc.), and \"agility_level\" is a categorical feature that was engineered solely for the purpose of this project. It has seven(7) values, \"Extremely Slow\", \"Slow\", \"Below Average\", \"Above Average\", \"Fast\", \"Very Fast\" and \"Extremely Fast\".\n"
   ]
  },
  {
   "cell_type": "code",
   "execution_count": 3,
   "metadata": {},
   "outputs": [],
   "source": [
    "# import all packages and set plots to be embedded inline\n",
    "import numpy as np\n",
    "import pandas as pd\n",
    "import matplotlib.pyplot as plt\n",
    "import seaborn as sb\n",
    "sb.set(style=\"whitegrid\")\n",
    "\n",
    "%matplotlib inline"
   ]
  },
  {
   "cell_type": "markdown",
   "metadata": {},
   "source": [
    "### 2.4) Gathering\n",
    "\n",
    "The gathering process was extremely easy and simple, since Kaggle offers a plethora of datasets for educational purposes."
   ]
  },
  {
   "cell_type": "code",
   "execution_count": 4,
   "metadata": {},
   "outputs": [],
   "source": [
    "#Loading the dataset\n",
    "df = pd.read_csv('Pokemon(Kaggle).csv')"
   ]
  },
  {
   "cell_type": "markdown",
   "metadata": {},
   "source": [
    "### 2.5) Assessing\n",
    "\n"
   ]
  },
  {
   "cell_type": "code",
   "execution_count": 82,
   "metadata": {},
   "outputs": [
    {
     "name": "stdout",
     "output_type": "stream",
     "text": [
      "<class 'pandas.core.frame.DataFrame'>\n",
      "RangeIndex: 800 entries, 0 to 799\n",
      "Data columns (total 13 columns):\n",
      " #   Column      Non-Null Count  Dtype \n",
      "---  ------      --------------  ----- \n",
      " 0   #           800 non-null    int64 \n",
      " 1   Name        800 non-null    object\n",
      " 2   Type 1      800 non-null    object\n",
      " 3   Type 2      414 non-null    object\n",
      " 4   Total       800 non-null    int64 \n",
      " 5   HP          800 non-null    int64 \n",
      " 6   Attack      800 non-null    int64 \n",
      " 7   Defense     800 non-null    int64 \n",
      " 8   Sp. Atk     800 non-null    int64 \n",
      " 9   Sp. Def     800 non-null    int64 \n",
      " 10  Speed       800 non-null    int64 \n",
      " 11  Generation  800 non-null    int64 \n",
      " 12  Legendary   800 non-null    bool  \n",
      "dtypes: bool(1), int64(9), object(3)\n",
      "memory usage: 75.9+ KB\n"
     ]
    }
   ],
   "source": [
    "#checking overall column information\n",
    "df.info()"
   ]
  },
  {
   "cell_type": "code",
   "execution_count": 83,
   "metadata": {},
   "outputs": [
    {
     "data": {
      "text/html": [
       "<div>\n",
       "<style scoped>\n",
       "    .dataframe tbody tr th:only-of-type {\n",
       "        vertical-align: middle;\n",
       "    }\n",
       "\n",
       "    .dataframe tbody tr th {\n",
       "        vertical-align: top;\n",
       "    }\n",
       "\n",
       "    .dataframe thead th {\n",
       "        text-align: right;\n",
       "    }\n",
       "</style>\n",
       "<table border=\"1\" class=\"dataframe\">\n",
       "  <thead>\n",
       "    <tr style=\"text-align: right;\">\n",
       "      <th></th>\n",
       "      <th>#</th>\n",
       "      <th>Name</th>\n",
       "      <th>Type 1</th>\n",
       "      <th>Type 2</th>\n",
       "      <th>Total</th>\n",
       "      <th>HP</th>\n",
       "      <th>Attack</th>\n",
       "      <th>Defense</th>\n",
       "      <th>Sp. Atk</th>\n",
       "      <th>Sp. Def</th>\n",
       "      <th>Speed</th>\n",
       "      <th>Generation</th>\n",
       "      <th>Legendary</th>\n",
       "    </tr>\n",
       "  </thead>\n",
       "  <tbody>\n",
       "    <tr>\n",
       "      <th>1</th>\n",
       "      <td>2</td>\n",
       "      <td>Ivysaur</td>\n",
       "      <td>Grass</td>\n",
       "      <td>Poison</td>\n",
       "      <td>405</td>\n",
       "      <td>60</td>\n",
       "      <td>62</td>\n",
       "      <td>63</td>\n",
       "      <td>80</td>\n",
       "      <td>80</td>\n",
       "      <td>60</td>\n",
       "      <td>1</td>\n",
       "      <td>False</td>\n",
       "    </tr>\n",
       "    <tr>\n",
       "      <th>449</th>\n",
       "      <td>404</td>\n",
       "      <td>Luxio</td>\n",
       "      <td>Electric</td>\n",
       "      <td>NaN</td>\n",
       "      <td>363</td>\n",
       "      <td>60</td>\n",
       "      <td>85</td>\n",
       "      <td>49</td>\n",
       "      <td>60</td>\n",
       "      <td>49</td>\n",
       "      <td>60</td>\n",
       "      <td>4</td>\n",
       "      <td>False</td>\n",
       "    </tr>\n",
       "    <tr>\n",
       "      <th>480</th>\n",
       "      <td>432</td>\n",
       "      <td>Purugly</td>\n",
       "      <td>Normal</td>\n",
       "      <td>NaN</td>\n",
       "      <td>452</td>\n",
       "      <td>71</td>\n",
       "      <td>82</td>\n",
       "      <td>64</td>\n",
       "      <td>64</td>\n",
       "      <td>59</td>\n",
       "      <td>112</td>\n",
       "      <td>4</td>\n",
       "      <td>False</td>\n",
       "    </tr>\n",
       "    <tr>\n",
       "      <th>493</th>\n",
       "      <td>445</td>\n",
       "      <td>Garchomp</td>\n",
       "      <td>Dragon</td>\n",
       "      <td>Ground</td>\n",
       "      <td>600</td>\n",
       "      <td>108</td>\n",
       "      <td>130</td>\n",
       "      <td>95</td>\n",
       "      <td>80</td>\n",
       "      <td>85</td>\n",
       "      <td>102</td>\n",
       "      <td>4</td>\n",
       "      <td>False</td>\n",
       "    </tr>\n",
       "  </tbody>\n",
       "</table>\n",
       "</div>"
      ],
      "text/plain": [
       "       #      Name    Type 1  Type 2  Total   HP  Attack  Defense  Sp. Atk  \\\n",
       "1      2   Ivysaur     Grass  Poison    405   60      62       63       80   \n",
       "449  404     Luxio  Electric     NaN    363   60      85       49       60   \n",
       "480  432   Purugly    Normal     NaN    452   71      82       64       64   \n",
       "493  445  Garchomp    Dragon  Ground    600  108     130       95       80   \n",
       "\n",
       "     Sp. Def  Speed  Generation  Legendary  \n",
       "1         80     60           1      False  \n",
       "449       49     60           4      False  \n",
       "480       59    112           4      False  \n",
       "493       85    102           4      False  "
      ]
     },
     "execution_count": 83,
     "metadata": {},
     "output_type": "execute_result"
    }
   ],
   "source": [
    "#Visual assessment\n",
    "df.sample(4)"
   ]
  },
  {
   "cell_type": "code",
   "execution_count": 7,
   "metadata": {},
   "outputs": [
    {
     "data": {
      "text/plain": [
       "False"
      ]
     },
     "execution_count": 7,
     "metadata": {},
     "output_type": "execute_result"
    }
   ],
   "source": [
    "#Checking for duplicated values\n",
    "df.duplicated().sum().any()"
   ]
  },
  {
   "cell_type": "code",
   "execution_count": 8,
   "metadata": {},
   "outputs": [
    {
     "data": {
      "text/plain": [
       "#               0\n",
       "Name            0\n",
       "Type 1          0\n",
       "Type 2        386\n",
       "Total           0\n",
       "HP              0\n",
       "Attack          0\n",
       "Defense         0\n",
       "Sp. Atk         0\n",
       "Sp. Def         0\n",
       "Speed           0\n",
       "Generation      0\n",
       "Legendary       0\n",
       "dtype: int64"
      ]
     },
     "execution_count": 8,
     "metadata": {},
     "output_type": "execute_result"
    }
   ],
   "source": [
    "#Checking for null values\n",
    "df.isna().sum()"
   ]
  },
  {
   "cell_type": "code",
   "execution_count": 84,
   "metadata": {},
   "outputs": [
    {
     "data": {
      "text/plain": [
       "False"
      ]
     },
     "execution_count": 84,
     "metadata": {},
     "output_type": "execute_result"
    }
   ],
   "source": [
    "#Checking for duplicated values\n",
    "df.duplicated().sum().any()"
   ]
  },
  {
   "cell_type": "code",
   "execution_count": 85,
   "metadata": {},
   "outputs": [
    {
     "data": {
      "text/html": [
       "<div>\n",
       "<style scoped>\n",
       "    .dataframe tbody tr th:only-of-type {\n",
       "        vertical-align: middle;\n",
       "    }\n",
       "\n",
       "    .dataframe tbody tr th {\n",
       "        vertical-align: top;\n",
       "    }\n",
       "\n",
       "    .dataframe thead th {\n",
       "        text-align: right;\n",
       "    }\n",
       "</style>\n",
       "<table border=\"1\" class=\"dataframe\">\n",
       "  <thead>\n",
       "    <tr style=\"text-align: right;\">\n",
       "      <th></th>\n",
       "      <th>#</th>\n",
       "      <th>Total</th>\n",
       "      <th>HP</th>\n",
       "      <th>Attack</th>\n",
       "      <th>Defense</th>\n",
       "      <th>Sp. Atk</th>\n",
       "      <th>Sp. Def</th>\n",
       "      <th>Speed</th>\n",
       "      <th>Generation</th>\n",
       "    </tr>\n",
       "  </thead>\n",
       "  <tbody>\n",
       "    <tr>\n",
       "      <th>count</th>\n",
       "      <td>800.000000</td>\n",
       "      <td>800.00000</td>\n",
       "      <td>800.000000</td>\n",
       "      <td>800.000000</td>\n",
       "      <td>800.000000</td>\n",
       "      <td>800.000000</td>\n",
       "      <td>800.000000</td>\n",
       "      <td>800.000000</td>\n",
       "      <td>800.00000</td>\n",
       "    </tr>\n",
       "    <tr>\n",
       "      <th>mean</th>\n",
       "      <td>362.813750</td>\n",
       "      <td>435.10250</td>\n",
       "      <td>69.258750</td>\n",
       "      <td>79.001250</td>\n",
       "      <td>73.842500</td>\n",
       "      <td>72.820000</td>\n",
       "      <td>71.902500</td>\n",
       "      <td>68.277500</td>\n",
       "      <td>3.32375</td>\n",
       "    </tr>\n",
       "    <tr>\n",
       "      <th>std</th>\n",
       "      <td>208.343798</td>\n",
       "      <td>119.96304</td>\n",
       "      <td>25.534669</td>\n",
       "      <td>32.457366</td>\n",
       "      <td>31.183501</td>\n",
       "      <td>32.722294</td>\n",
       "      <td>27.828916</td>\n",
       "      <td>29.060474</td>\n",
       "      <td>1.66129</td>\n",
       "    </tr>\n",
       "    <tr>\n",
       "      <th>min</th>\n",
       "      <td>1.000000</td>\n",
       "      <td>180.00000</td>\n",
       "      <td>1.000000</td>\n",
       "      <td>5.000000</td>\n",
       "      <td>5.000000</td>\n",
       "      <td>10.000000</td>\n",
       "      <td>20.000000</td>\n",
       "      <td>5.000000</td>\n",
       "      <td>1.00000</td>\n",
       "    </tr>\n",
       "    <tr>\n",
       "      <th>25%</th>\n",
       "      <td>184.750000</td>\n",
       "      <td>330.00000</td>\n",
       "      <td>50.000000</td>\n",
       "      <td>55.000000</td>\n",
       "      <td>50.000000</td>\n",
       "      <td>49.750000</td>\n",
       "      <td>50.000000</td>\n",
       "      <td>45.000000</td>\n",
       "      <td>2.00000</td>\n",
       "    </tr>\n",
       "    <tr>\n",
       "      <th>50%</th>\n",
       "      <td>364.500000</td>\n",
       "      <td>450.00000</td>\n",
       "      <td>65.000000</td>\n",
       "      <td>75.000000</td>\n",
       "      <td>70.000000</td>\n",
       "      <td>65.000000</td>\n",
       "      <td>70.000000</td>\n",
       "      <td>65.000000</td>\n",
       "      <td>3.00000</td>\n",
       "    </tr>\n",
       "    <tr>\n",
       "      <th>75%</th>\n",
       "      <td>539.250000</td>\n",
       "      <td>515.00000</td>\n",
       "      <td>80.000000</td>\n",
       "      <td>100.000000</td>\n",
       "      <td>90.000000</td>\n",
       "      <td>95.000000</td>\n",
       "      <td>90.000000</td>\n",
       "      <td>90.000000</td>\n",
       "      <td>5.00000</td>\n",
       "    </tr>\n",
       "    <tr>\n",
       "      <th>max</th>\n",
       "      <td>721.000000</td>\n",
       "      <td>780.00000</td>\n",
       "      <td>255.000000</td>\n",
       "      <td>190.000000</td>\n",
       "      <td>230.000000</td>\n",
       "      <td>194.000000</td>\n",
       "      <td>230.000000</td>\n",
       "      <td>180.000000</td>\n",
       "      <td>6.00000</td>\n",
       "    </tr>\n",
       "  </tbody>\n",
       "</table>\n",
       "</div>"
      ],
      "text/plain": [
       "                #      Total          HP      Attack     Defense     Sp. Atk  \\\n",
       "count  800.000000  800.00000  800.000000  800.000000  800.000000  800.000000   \n",
       "mean   362.813750  435.10250   69.258750   79.001250   73.842500   72.820000   \n",
       "std    208.343798  119.96304   25.534669   32.457366   31.183501   32.722294   \n",
       "min      1.000000  180.00000    1.000000    5.000000    5.000000   10.000000   \n",
       "25%    184.750000  330.00000   50.000000   55.000000   50.000000   49.750000   \n",
       "50%    364.500000  450.00000   65.000000   75.000000   70.000000   65.000000   \n",
       "75%    539.250000  515.00000   80.000000  100.000000   90.000000   95.000000   \n",
       "max    721.000000  780.00000  255.000000  190.000000  230.000000  194.000000   \n",
       "\n",
       "          Sp. Def       Speed  Generation  \n",
       "count  800.000000  800.000000   800.00000  \n",
       "mean    71.902500   68.277500     3.32375  \n",
       "std     27.828916   29.060474     1.66129  \n",
       "min     20.000000    5.000000     1.00000  \n",
       "25%     50.000000   45.000000     2.00000  \n",
       "50%     70.000000   65.000000     3.00000  \n",
       "75%     90.000000   90.000000     5.00000  \n",
       "max    230.000000  180.000000     6.00000  "
      ]
     },
     "execution_count": 85,
     "metadata": {},
     "output_type": "execute_result"
    }
   ],
   "source": [
    "#Checking for any abnormal/extreme quantitative variables\n",
    "df.describe()"
   ]
  },
  {
   "cell_type": "markdown",
   "metadata": {},
   "source": [
    "#### 2.5.1) Assessment Results\n",
    "\n",
    "By assessing the dataset both visually and programmatically, it was concluded that the data is complete (type_2 column excluded), valid and accurate, as well as in a tidy format. \"Type_2\" column's status is intended, since not every Pokemon has a second type.   \n",
    "However, a consistency issue was observed, namely the naming convention of the columns of the dataset. To elaborate on that, the column names are often abbreviated as to avoid elongate names, which is fine when presenting the dataset to the public, but for exploratory analysis it can be slightly beneficial to convert them to lower case.   \n",
    "Also, in the case of \"Sp. Atk\" and \"Sp. Def\", one who's not familiar with the subject will most likely need to make assumptions on what these features may be. This (minor) issue is fixed below by renaming the columns to a more readable format."
   ]
  },
  {
   "cell_type": "markdown",
   "metadata": {},
   "source": [
    "### 2.6) Cleaning"
   ]
  },
  {
   "cell_type": "code",
   "execution_count": 11,
   "metadata": {},
   "outputs": [],
   "source": [
    "#Making a copy of the dataset before proceeding with cleaning it\n",
    "df_copy = df.copy()"
   ]
  },
  {
   "cell_type": "code",
   "execution_count": 12,
   "metadata": {},
   "outputs": [],
   "source": [
    "#Renaming columns to assist with exploratory analysis later\n",
    "df_copy.rename(columns = {'Name': 'name', 'Type 1': 'type_1', 'Type 2': 'type_2', 'Total':'total', 'HP': 'health_points',\n",
    "                    'Attack':'attack', 'Defense':'defense', 'Sp. Atk':'special_attack', 'Sp. Def':'special_defense',\n",
    "                    'Speed':'speed', 'Generation':'generation', 'Legendary':'legendary'}, inplace = True) "
   ]
  },
  {
   "cell_type": "code",
   "execution_count": 13,
   "metadata": {},
   "outputs": [
    {
     "data": {
      "text/plain": [
       "#                   int64\n",
       "name               object\n",
       "type_1             object\n",
       "type_2             object\n",
       "total               int64\n",
       "health_points       int64\n",
       "attack              int64\n",
       "defense             int64\n",
       "special_attack      int64\n",
       "special_defense     int64\n",
       "speed               int64\n",
       "generation          int64\n",
       "legendary            bool\n",
       "dtype: object"
      ]
     },
     "execution_count": 13,
     "metadata": {},
     "output_type": "execute_result"
    }
   ],
   "source": [
    "#Testing the column name changes above\n",
    "df_copy.dtypes"
   ]
  },
  {
   "cell_type": "code",
   "execution_count": 14,
   "metadata": {},
   "outputs": [
    {
     "data": {
      "text/html": [
       "<div>\n",
       "<style scoped>\n",
       "    .dataframe tbody tr th:only-of-type {\n",
       "        vertical-align: middle;\n",
       "    }\n",
       "\n",
       "    .dataframe tbody tr th {\n",
       "        vertical-align: top;\n",
       "    }\n",
       "\n",
       "    .dataframe thead th {\n",
       "        text-align: right;\n",
       "    }\n",
       "</style>\n",
       "<table border=\"1\" class=\"dataframe\">\n",
       "  <thead>\n",
       "    <tr style=\"text-align: right;\">\n",
       "      <th></th>\n",
       "      <th>#</th>\n",
       "      <th>name</th>\n",
       "      <th>type_1</th>\n",
       "      <th>type_2</th>\n",
       "      <th>total</th>\n",
       "      <th>health_points</th>\n",
       "      <th>attack</th>\n",
       "      <th>defense</th>\n",
       "      <th>special_attack</th>\n",
       "      <th>special_defense</th>\n",
       "      <th>speed</th>\n",
       "      <th>generation</th>\n",
       "      <th>legendary</th>\n",
       "    </tr>\n",
       "  </thead>\n",
       "  <tbody>\n",
       "    <tr>\n",
       "      <th>476</th>\n",
       "      <td>428</td>\n",
       "      <td>LopunnyMega Lopunny</td>\n",
       "      <td>Normal</td>\n",
       "      <td>Fighting</td>\n",
       "      <td>580</td>\n",
       "      <td>65</td>\n",
       "      <td>136</td>\n",
       "      <td>94</td>\n",
       "      <td>54</td>\n",
       "      <td>96</td>\n",
       "      <td>135</td>\n",
       "      <td>4</td>\n",
       "      <td>False</td>\n",
       "    </tr>\n",
       "    <tr>\n",
       "      <th>669</th>\n",
       "      <td>608</td>\n",
       "      <td>Lampent</td>\n",
       "      <td>Ghost</td>\n",
       "      <td>Fire</td>\n",
       "      <td>370</td>\n",
       "      <td>60</td>\n",
       "      <td>40</td>\n",
       "      <td>60</td>\n",
       "      <td>95</td>\n",
       "      <td>60</td>\n",
       "      <td>55</td>\n",
       "      <td>5</td>\n",
       "      <td>False</td>\n",
       "    </tr>\n",
       "    <tr>\n",
       "      <th>772</th>\n",
       "      <td>702</td>\n",
       "      <td>Dedenne</td>\n",
       "      <td>Electric</td>\n",
       "      <td>Fairy</td>\n",
       "      <td>431</td>\n",
       "      <td>67</td>\n",
       "      <td>58</td>\n",
       "      <td>57</td>\n",
       "      <td>81</td>\n",
       "      <td>67</td>\n",
       "      <td>101</td>\n",
       "      <td>6</td>\n",
       "      <td>False</td>\n",
       "    </tr>\n",
       "    <tr>\n",
       "      <th>381</th>\n",
       "      <td>349</td>\n",
       "      <td>Feebas</td>\n",
       "      <td>Water</td>\n",
       "      <td>NaN</td>\n",
       "      <td>200</td>\n",
       "      <td>20</td>\n",
       "      <td>15</td>\n",
       "      <td>20</td>\n",
       "      <td>10</td>\n",
       "      <td>55</td>\n",
       "      <td>80</td>\n",
       "      <td>3</td>\n",
       "      <td>False</td>\n",
       "    </tr>\n",
       "    <tr>\n",
       "      <th>247</th>\n",
       "      <td>229</td>\n",
       "      <td>Houndoom</td>\n",
       "      <td>Dark</td>\n",
       "      <td>Fire</td>\n",
       "      <td>500</td>\n",
       "      <td>75</td>\n",
       "      <td>90</td>\n",
       "      <td>50</td>\n",
       "      <td>110</td>\n",
       "      <td>80</td>\n",
       "      <td>95</td>\n",
       "      <td>2</td>\n",
       "      <td>False</td>\n",
       "    </tr>\n",
       "  </tbody>\n",
       "</table>\n",
       "</div>"
      ],
      "text/plain": [
       "       #                 name    type_1    type_2  total  health_points  \\\n",
       "476  428  LopunnyMega Lopunny    Normal  Fighting    580             65   \n",
       "669  608              Lampent     Ghost      Fire    370             60   \n",
       "772  702              Dedenne  Electric     Fairy    431             67   \n",
       "381  349               Feebas     Water       NaN    200             20   \n",
       "247  229             Houndoom      Dark      Fire    500             75   \n",
       "\n",
       "     attack  defense  special_attack  special_defense  speed  generation  \\\n",
       "476     136       94              54               96    135           4   \n",
       "669      40       60              95               60     55           5   \n",
       "772      58       57              81               67    101           6   \n",
       "381      15       20              10               55     80           3   \n",
       "247      90       50             110               80     95           2   \n",
       "\n",
       "     legendary  \n",
       "476      False  \n",
       "669      False  \n",
       "772      False  \n",
       "381      False  \n",
       "247      False  "
      ]
     },
     "execution_count": 14,
     "metadata": {},
     "output_type": "execute_result"
    }
   ],
   "source": [
    "df_copy.sample(5)"
   ]
  },
  {
   "cell_type": "code",
   "execution_count": 15,
   "metadata": {},
   "outputs": [
    {
     "data": {
      "text/html": [
       "<div>\n",
       "<style scoped>\n",
       "    .dataframe tbody tr th:only-of-type {\n",
       "        vertical-align: middle;\n",
       "    }\n",
       "\n",
       "    .dataframe tbody tr th {\n",
       "        vertical-align: top;\n",
       "    }\n",
       "\n",
       "    .dataframe thead th {\n",
       "        text-align: right;\n",
       "    }\n",
       "</style>\n",
       "<table border=\"1\" class=\"dataframe\">\n",
       "  <thead>\n",
       "    <tr style=\"text-align: right;\">\n",
       "      <th></th>\n",
       "      <th>#</th>\n",
       "      <th>total</th>\n",
       "      <th>health_points</th>\n",
       "      <th>attack</th>\n",
       "      <th>defense</th>\n",
       "      <th>special_attack</th>\n",
       "      <th>special_defense</th>\n",
       "      <th>speed</th>\n",
       "      <th>generation</th>\n",
       "    </tr>\n",
       "  </thead>\n",
       "  <tbody>\n",
       "    <tr>\n",
       "      <th>count</th>\n",
       "      <td>800.000000</td>\n",
       "      <td>800.00000</td>\n",
       "      <td>800.000000</td>\n",
       "      <td>800.000000</td>\n",
       "      <td>800.000000</td>\n",
       "      <td>800.000000</td>\n",
       "      <td>800.000000</td>\n",
       "      <td>800.000000</td>\n",
       "      <td>800.00000</td>\n",
       "    </tr>\n",
       "    <tr>\n",
       "      <th>mean</th>\n",
       "      <td>362.813750</td>\n",
       "      <td>435.10250</td>\n",
       "      <td>69.258750</td>\n",
       "      <td>79.001250</td>\n",
       "      <td>73.842500</td>\n",
       "      <td>72.820000</td>\n",
       "      <td>71.902500</td>\n",
       "      <td>68.277500</td>\n",
       "      <td>3.32375</td>\n",
       "    </tr>\n",
       "    <tr>\n",
       "      <th>std</th>\n",
       "      <td>208.343798</td>\n",
       "      <td>119.96304</td>\n",
       "      <td>25.534669</td>\n",
       "      <td>32.457366</td>\n",
       "      <td>31.183501</td>\n",
       "      <td>32.722294</td>\n",
       "      <td>27.828916</td>\n",
       "      <td>29.060474</td>\n",
       "      <td>1.66129</td>\n",
       "    </tr>\n",
       "    <tr>\n",
       "      <th>min</th>\n",
       "      <td>1.000000</td>\n",
       "      <td>180.00000</td>\n",
       "      <td>1.000000</td>\n",
       "      <td>5.000000</td>\n",
       "      <td>5.000000</td>\n",
       "      <td>10.000000</td>\n",
       "      <td>20.000000</td>\n",
       "      <td>5.000000</td>\n",
       "      <td>1.00000</td>\n",
       "    </tr>\n",
       "    <tr>\n",
       "      <th>25%</th>\n",
       "      <td>184.750000</td>\n",
       "      <td>330.00000</td>\n",
       "      <td>50.000000</td>\n",
       "      <td>55.000000</td>\n",
       "      <td>50.000000</td>\n",
       "      <td>49.750000</td>\n",
       "      <td>50.000000</td>\n",
       "      <td>45.000000</td>\n",
       "      <td>2.00000</td>\n",
       "    </tr>\n",
       "    <tr>\n",
       "      <th>50%</th>\n",
       "      <td>364.500000</td>\n",
       "      <td>450.00000</td>\n",
       "      <td>65.000000</td>\n",
       "      <td>75.000000</td>\n",
       "      <td>70.000000</td>\n",
       "      <td>65.000000</td>\n",
       "      <td>70.000000</td>\n",
       "      <td>65.000000</td>\n",
       "      <td>3.00000</td>\n",
       "    </tr>\n",
       "    <tr>\n",
       "      <th>75%</th>\n",
       "      <td>539.250000</td>\n",
       "      <td>515.00000</td>\n",
       "      <td>80.000000</td>\n",
       "      <td>100.000000</td>\n",
       "      <td>90.000000</td>\n",
       "      <td>95.000000</td>\n",
       "      <td>90.000000</td>\n",
       "      <td>90.000000</td>\n",
       "      <td>5.00000</td>\n",
       "    </tr>\n",
       "    <tr>\n",
       "      <th>max</th>\n",
       "      <td>721.000000</td>\n",
       "      <td>780.00000</td>\n",
       "      <td>255.000000</td>\n",
       "      <td>190.000000</td>\n",
       "      <td>230.000000</td>\n",
       "      <td>194.000000</td>\n",
       "      <td>230.000000</td>\n",
       "      <td>180.000000</td>\n",
       "      <td>6.00000</td>\n",
       "    </tr>\n",
       "  </tbody>\n",
       "</table>\n",
       "</div>"
      ],
      "text/plain": [
       "                #      total  health_points      attack     defense  \\\n",
       "count  800.000000  800.00000     800.000000  800.000000  800.000000   \n",
       "mean   362.813750  435.10250      69.258750   79.001250   73.842500   \n",
       "std    208.343798  119.96304      25.534669   32.457366   31.183501   \n",
       "min      1.000000  180.00000       1.000000    5.000000    5.000000   \n",
       "25%    184.750000  330.00000      50.000000   55.000000   50.000000   \n",
       "50%    364.500000  450.00000      65.000000   75.000000   70.000000   \n",
       "75%    539.250000  515.00000      80.000000  100.000000   90.000000   \n",
       "max    721.000000  780.00000     255.000000  190.000000  230.000000   \n",
       "\n",
       "       special_attack  special_defense       speed  generation  \n",
       "count      800.000000       800.000000  800.000000   800.00000  \n",
       "mean        72.820000        71.902500   68.277500     3.32375  \n",
       "std         32.722294        27.828916   29.060474     1.66129  \n",
       "min         10.000000        20.000000    5.000000     1.00000  \n",
       "25%         49.750000        50.000000   45.000000     2.00000  \n",
       "50%         65.000000        70.000000   65.000000     3.00000  \n",
       "75%         95.000000        90.000000   90.000000     5.00000  \n",
       "max        194.000000       230.000000  180.000000     6.00000  "
      ]
     },
     "execution_count": 15,
     "metadata": {},
     "output_type": "execute_result"
    }
   ],
   "source": [
    "df_copy.describe()"
   ]
  },
  {
   "cell_type": "code",
   "execution_count": 16,
   "metadata": {},
   "outputs": [
    {
     "data": {
      "text/plain": [
       "count    800.000000\n",
       "mean      68.277500\n",
       "std       29.060474\n",
       "min        5.000000\n",
       "5%        25.000000\n",
       "25%       45.000000\n",
       "50%       65.000000\n",
       "75%       90.000000\n",
       "90%      106.000000\n",
       "95%      115.000000\n",
       "max      180.000000\n",
       "Name: speed, dtype: float64"
      ]
     },
     "execution_count": 16,
     "metadata": {},
     "output_type": "execute_result"
    }
   ],
   "source": [
    "#Setting percentiles for our data to slice it into more accurate bins \n",
    "df_copy['speed'].describe(percentiles = [.05, .25, .5, .75, .90, .95])"
   ]
  },
  {
   "cell_type": "code",
   "execution_count": 17,
   "metadata": {},
   "outputs": [],
   "source": [
    "\n",
    "#Making bins to categorize pokemon speed, then assigning a new categorical feature, along with its values (bin names)\n",
    "bin_edges = [5,25,45,65,90,106,150,180]\n",
    "bin_names = ['Extremely Slow','Slow','Below Average','Above Average','Fast','Very Fast','Extremely Fast']\n",
    "df_copy['agility_level'] = pd.cut(df_copy['speed'], bin_edges, labels=bin_names)"
   ]
  },
  {
   "cell_type": "code",
   "execution_count": 18,
   "metadata": {},
   "outputs": [
    {
     "data": {
      "text/html": [
       "<div>\n",
       "<style scoped>\n",
       "    .dataframe tbody tr th:only-of-type {\n",
       "        vertical-align: middle;\n",
       "    }\n",
       "\n",
       "    .dataframe tbody tr th {\n",
       "        vertical-align: top;\n",
       "    }\n",
       "\n",
       "    .dataframe thead th {\n",
       "        text-align: right;\n",
       "    }\n",
       "</style>\n",
       "<table border=\"1\" class=\"dataframe\">\n",
       "  <thead>\n",
       "    <tr style=\"text-align: right;\">\n",
       "      <th></th>\n",
       "      <th>#</th>\n",
       "      <th>name</th>\n",
       "      <th>type_1</th>\n",
       "      <th>type_2</th>\n",
       "      <th>total</th>\n",
       "      <th>health_points</th>\n",
       "      <th>attack</th>\n",
       "      <th>defense</th>\n",
       "      <th>special_attack</th>\n",
       "      <th>special_defense</th>\n",
       "      <th>speed</th>\n",
       "      <th>generation</th>\n",
       "      <th>legendary</th>\n",
       "      <th>agility_level</th>\n",
       "    </tr>\n",
       "  </thead>\n",
       "  <tbody>\n",
       "    <tr>\n",
       "      <th>315</th>\n",
       "      <td>291</td>\n",
       "      <td>Ninjask</td>\n",
       "      <td>Bug</td>\n",
       "      <td>Flying</td>\n",
       "      <td>456</td>\n",
       "      <td>61</td>\n",
       "      <td>90</td>\n",
       "      <td>45</td>\n",
       "      <td>50</td>\n",
       "      <td>50</td>\n",
       "      <td>160</td>\n",
       "      <td>3</td>\n",
       "      <td>False</td>\n",
       "      <td>Extremely Fast</td>\n",
       "    </tr>\n",
       "    <tr>\n",
       "      <th>431</th>\n",
       "      <td>386</td>\n",
       "      <td>DeoxysSpeed Forme</td>\n",
       "      <td>Psychic</td>\n",
       "      <td>NaN</td>\n",
       "      <td>600</td>\n",
       "      <td>50</td>\n",
       "      <td>95</td>\n",
       "      <td>90</td>\n",
       "      <td>95</td>\n",
       "      <td>90</td>\n",
       "      <td>180</td>\n",
       "      <td>3</td>\n",
       "      <td>True</td>\n",
       "      <td>Extremely Fast</td>\n",
       "    </tr>\n",
       "  </tbody>\n",
       "</table>\n",
       "</div>"
      ],
      "text/plain": [
       "       #               name   type_1  type_2  total  health_points  attack  \\\n",
       "315  291            Ninjask      Bug  Flying    456             61      90   \n",
       "431  386  DeoxysSpeed Forme  Psychic     NaN    600             50      95   \n",
       "\n",
       "     defense  special_attack  special_defense  speed  generation  legendary  \\\n",
       "315       45              50               50    160           3      False   \n",
       "431       90              95               90    180           3       True   \n",
       "\n",
       "      agility_level  \n",
       "315  Extremely Fast  \n",
       "431  Extremely Fast  "
      ]
     },
     "execution_count": 18,
     "metadata": {},
     "output_type": "execute_result"
    }
   ],
   "source": [
    "#Testing the new categorical feature\n",
    "df_copy.query('agility_level == \"Extremely Fast\"')"
   ]
  },
  {
   "cell_type": "code",
   "execution_count": 20,
   "metadata": {},
   "outputs": [],
   "source": [
    "\n",
    "#Changing generation to a qualitative feature\n",
    "df_copy['generation']= df_copy['generation'].apply(str)"
   ]
  },
  {
   "cell_type": "code",
   "execution_count": 21,
   "metadata": {},
   "outputs": [],
   "source": [
    "\n",
    "#Replacing the corresponding generation numbers with alphabetical names\n",
    "df_copy['generation'].replace({'1':'first','2':'second','3':'third','4':'fourth','5':'fifth','6':'sixth'}, inplace=True)"
   ]
  },
  {
   "cell_type": "code",
   "execution_count": 22,
   "metadata": {},
   "outputs": [
    {
     "data": {
      "text/plain": [
       "324     third\n",
       "314     third\n",
       "657     fifth\n",
       "695     fifth\n",
       "161     first\n",
       "593     fifth\n",
       "550    fourth\n",
       "429     third\n",
       "184    second\n",
       "584     fifth\n",
       "Name: generation, dtype: object"
      ]
     },
     "execution_count": 22,
     "metadata": {},
     "output_type": "execute_result"
    }
   ],
   "source": [
    "df_copy['generation'].sample(10)"
   ]
  },
  {
   "cell_type": "code",
   "execution_count": 23,
   "metadata": {},
   "outputs": [],
   "source": [
    "df_copy.to_csv('Pokemon_clean.csv')"
   ]
  },
  {
   "cell_type": "markdown",
   "metadata": {},
   "source": [
    "#### 2.6.1) Cleaning explained\n",
    "\n",
    "Regarding the structure of the dataset, a few adjustments were made to accomodate for questions asked by an interested party. To elaborate on that, one new categorical feature was engineered (\"agility_level\") and another feature(\"generation\") had its type changed (from int64 to object/string), while still maintaining its status as a qualitative feature.\n",
    "\n",
    "The cause behind the aforementioned changes was to enable analysis for Pokemon speciments based on their \"speed\" characteristic, in the case of \"agility\" level, while the change on the \"generation\" feature was more of a supplementary one to assist in EDA accross all cases/questions."
   ]
  },
  {
   "cell_type": "markdown",
   "metadata": {},
   "source": [
    "<a id='uni'></a>\n",
    "## 3) Univariate Exploration\n",
    "\n",
    "In this section, the investigation of the data using single variables takes place. Specifically, the features \"type\", \"speed\" and \"special_attack\" are used to gain visual feedback about them."
   ]
  },
  {
   "cell_type": "markdown",
   "metadata": {},
   "source": [
    "### 3.1) What are the most common Pokemon types?"
   ]
  },
  {
   "cell_type": "markdown",
   "metadata": {},
   "source": [
    "The simplest univariate exploration attempt that comes to mind is finding out the most common Pokemon types that inhabit the digital world of Pokemon."
   ]
  },
  {
   "cell_type": "code",
   "execution_count": 24,
   "metadata": {},
   "outputs": [
    {
     "data": {
      "text/plain": [
       "Water       112\n",
       "Normal       98\n",
       "Grass        70\n",
       "Bug          69\n",
       "Psychic      57\n",
       "Fire         52\n",
       "Electric     44\n",
       "Rock         44\n",
       "Ground       32\n",
       "Dragon       32\n",
       "Ghost        32\n",
       "Dark         31\n",
       "Poison       28\n",
       "Fighting     27\n",
       "Steel        27\n",
       "Ice          24\n",
       "Fairy        17\n",
       "Flying        4\n",
       "Name: type_1, dtype: int64"
      ]
     },
     "execution_count": 24,
     "metadata": {},
     "output_type": "execute_result"
    }
   ],
   "source": [
    "#Finding the most common pokemon types\n",
    "df_copy['type_1'].value_counts()"
   ]
  },
  {
   "cell_type": "code",
   "execution_count": 25,
   "metadata": {},
   "outputs": [
    {
     "data": {
      "text/plain": [
       "Water       14.000\n",
       "Normal      12.250\n",
       "Grass        8.750\n",
       "Bug          8.625\n",
       "Psychic      7.125\n",
       "Fire         6.500\n",
       "Electric     5.500\n",
       "Rock         5.500\n",
       "Ground       4.000\n",
       "Dragon       4.000\n",
       "Ghost        4.000\n",
       "Dark         3.875\n",
       "Poison       3.500\n",
       "Fighting     3.375\n",
       "Steel        3.375\n",
       "Ice          3.000\n",
       "Fairy        2.125\n",
       "Flying       0.500\n",
       "Name: type_1, dtype: float64"
      ]
     },
     "execution_count": 25,
     "metadata": {},
     "output_type": "execute_result"
    }
   ],
   "source": [
    "#Most common pokemon types in percentage\n",
    "df_copy['type_1'].value_counts(normalize=True)*100"
   ]
  },
  {
   "cell_type": "code",
   "execution_count": 26,
   "metadata": {},
   "outputs": [
    {
     "data": {
      "image/png": "[encoded data removed]",
      "text/plain": [
       "<Figure size 432x288 with 1 Axes>"
      ]
     },
     "metadata": {
      "needs_background": "light"
     },
     "output_type": "display_data"
    }
   ],
   "source": [
    "#Visualisation of most common pokemon types\n",
    "df_copy['type_1'].value_counts().plot(kind='bar', title= 'Most Common Pokemon Types');"
   ]
  },
  {
   "cell_type": "markdown",
   "metadata": {},
   "source": [
    "Simple investigations may still turn up very intuitive results. It is apparent from the visualization aboe that the most common Pokemon type is \"Water\", followed by \"Normal\" and \"Grass\" types."
   ]
  },
  {
   "cell_type": "markdown",
   "metadata": {},
   "source": [
    "### 3.2) How much speed do most Pokemon have?"
   ]
  },
  {
   "cell_type": "markdown",
   "metadata": {},
   "source": [
    "In order to answer this question accurately, a certain data preparation step has to be carried out to ensure accurate visualisation. To elaborate, appropriate bins have to be defined to visualise this piece of data. In order to set bins efficiently so as to present data accurately, Sturge's Rule was used in order to accurately set the bins for histogram visualisation."
   ]
  },
  {
   "cell_type": "markdown",
   "metadata": {},
   "source": [
    "**Designating bin sizes by applying Sturge’s Rule**  \n",
    "- **K = 1 + 3. 322 logN**\n"
   ]
  },
  {
   "cell_type": "markdown",
   "metadata": {},
   "source": [
    "K = 1 + 3,322 log 800(number of observations)  \n",
    "K = 1 + 3,322 x 2,903(rounded to 4 digits)  \n",
    "K = 1 + 9,644 \n",
    "K = 7.644 = 10,644 (rounded to 11)"
   ]
  },
  {
   "cell_type": "markdown",
   "metadata": {},
   "source": [
    "According to Sturge's Rule, the number of bins that should be used for this dataset is eleven(11)."
   ]
  },
  {
   "cell_type": "code",
   "execution_count": 61,
   "metadata": {},
   "outputs": [
    {
     "data": {
      "image/png": "[encoded data removed]",
      "text/plain": [
       "<Figure size 432x288 with 1 Axes>"
      ]
     },
     "metadata": {
      "needs_background": "light"
     },
     "output_type": "display_data"
    }
   ],
   "source": [
    "#Showcasing the distribution of average pokemon speed\n",
    "ax1 = bin_edges = np.arange(5, df_copy['speed'].max()+1, 11)\n",
    "ax1 = plt.hist(data = df_copy, x = 'speed', bins = bin_edges);"
   ]
  },
  {
   "cell_type": "code",
   "execution_count": 60,
   "metadata": {},
   "outputs": [
    {
     "data": {
      "text/html": [
       "<div>\n",
       "<style scoped>\n",
       "    .dataframe tbody tr th:only-of-type {\n",
       "        vertical-align: middle;\n",
       "    }\n",
       "\n",
       "    .dataframe tbody tr th {\n",
       "        vertical-align: top;\n",
       "    }\n",
       "\n",
       "    .dataframe thead th {\n",
       "        text-align: right;\n",
       "    }\n",
       "</style>\n",
       "<table border=\"1\" class=\"dataframe\">\n",
       "  <thead>\n",
       "    <tr style=\"text-align: right;\">\n",
       "      <th></th>\n",
       "      <th>#</th>\n",
       "      <th>total</th>\n",
       "      <th>health_points</th>\n",
       "      <th>attack</th>\n",
       "      <th>defense</th>\n",
       "      <th>special_attack</th>\n",
       "      <th>special_defense</th>\n",
       "      <th>speed</th>\n",
       "    </tr>\n",
       "  </thead>\n",
       "  <tbody>\n",
       "    <tr>\n",
       "      <th>count</th>\n",
       "      <td>800.000000</td>\n",
       "      <td>800.00000</td>\n",
       "      <td>800.000000</td>\n",
       "      <td>800.000000</td>\n",
       "      <td>800.000000</td>\n",
       "      <td>800.000000</td>\n",
       "      <td>800.000000</td>\n",
       "      <td>800.000000</td>\n",
       "    </tr>\n",
       "    <tr>\n",
       "      <th>mean</th>\n",
       "      <td>362.813750</td>\n",
       "      <td>435.10250</td>\n",
       "      <td>69.258750</td>\n",
       "      <td>79.001250</td>\n",
       "      <td>73.842500</td>\n",
       "      <td>72.820000</td>\n",
       "      <td>71.902500</td>\n",
       "      <td>68.277500</td>\n",
       "    </tr>\n",
       "    <tr>\n",
       "      <th>std</th>\n",
       "      <td>208.343798</td>\n",
       "      <td>119.96304</td>\n",
       "      <td>25.534669</td>\n",
       "      <td>32.457366</td>\n",
       "      <td>31.183501</td>\n",
       "      <td>32.722294</td>\n",
       "      <td>27.828916</td>\n",
       "      <td>29.060474</td>\n",
       "    </tr>\n",
       "    <tr>\n",
       "      <th>min</th>\n",
       "      <td>1.000000</td>\n",
       "      <td>180.00000</td>\n",
       "      <td>1.000000</td>\n",
       "      <td>5.000000</td>\n",
       "      <td>5.000000</td>\n",
       "      <td>10.000000</td>\n",
       "      <td>20.000000</td>\n",
       "      <td>5.000000</td>\n",
       "    </tr>\n",
       "    <tr>\n",
       "      <th>25%</th>\n",
       "      <td>184.750000</td>\n",
       "      <td>330.00000</td>\n",
       "      <td>50.000000</td>\n",
       "      <td>55.000000</td>\n",
       "      <td>50.000000</td>\n",
       "      <td>49.750000</td>\n",
       "      <td>50.000000</td>\n",
       "      <td>45.000000</td>\n",
       "    </tr>\n",
       "    <tr>\n",
       "      <th>50%</th>\n",
       "      <td>364.500000</td>\n",
       "      <td>450.00000</td>\n",
       "      <td>65.000000</td>\n",
       "      <td>75.000000</td>\n",
       "      <td>70.000000</td>\n",
       "      <td>65.000000</td>\n",
       "      <td>70.000000</td>\n",
       "      <td>65.000000</td>\n",
       "    </tr>\n",
       "    <tr>\n",
       "      <th>75%</th>\n",
       "      <td>539.250000</td>\n",
       "      <td>515.00000</td>\n",
       "      <td>80.000000</td>\n",
       "      <td>100.000000</td>\n",
       "      <td>90.000000</td>\n",
       "      <td>95.000000</td>\n",
       "      <td>90.000000</td>\n",
       "      <td>90.000000</td>\n",
       "    </tr>\n",
       "    <tr>\n",
       "      <th>max</th>\n",
       "      <td>721.000000</td>\n",
       "      <td>780.00000</td>\n",
       "      <td>255.000000</td>\n",
       "      <td>190.000000</td>\n",
       "      <td>230.000000</td>\n",
       "      <td>194.000000</td>\n",
       "      <td>230.000000</td>\n",
       "      <td>180.000000</td>\n",
       "    </tr>\n",
       "  </tbody>\n",
       "</table>\n",
       "</div>"
      ],
      "text/plain": [
       "                #      total  health_points      attack     defense  \\\n",
       "count  800.000000  800.00000     800.000000  800.000000  800.000000   \n",
       "mean   362.813750  435.10250      69.258750   79.001250   73.842500   \n",
       "std    208.343798  119.96304      25.534669   32.457366   31.183501   \n",
       "min      1.000000  180.00000       1.000000    5.000000    5.000000   \n",
       "25%    184.750000  330.00000      50.000000   55.000000   50.000000   \n",
       "50%    364.500000  450.00000      65.000000   75.000000   70.000000   \n",
       "75%    539.250000  515.00000      80.000000  100.000000   90.000000   \n",
       "max    721.000000  780.00000     255.000000  190.000000  230.000000   \n",
       "\n",
       "       special_attack  special_defense       speed  \n",
       "count      800.000000       800.000000  800.000000  \n",
       "mean        72.820000        71.902500   68.277500  \n",
       "std         32.722294        27.828916   29.060474  \n",
       "min         10.000000        20.000000    5.000000  \n",
       "25%         49.750000        50.000000   45.000000  \n",
       "50%         65.000000        70.000000   65.000000  \n",
       "75%         95.000000        90.000000   90.000000  \n",
       "max        194.000000       230.000000  180.000000  "
      ]
     },
     "execution_count": 60,
     "metadata": {},
     "output_type": "execute_result"
    }
   ],
   "source": [
    "df_copy.describe()"
   ]
  },
  {
   "cell_type": "markdown",
   "metadata": {},
   "source": [
    "The resulting visualisation shows that the vast majority of Pokemon in our data has a speed stat between fifty(50) and seventy(70)."
   ]
  },
  {
   "cell_type": "markdown",
   "metadata": {},
   "source": [
    "### 3.3) How much Special Attack do most Pokemon have?\n",
    "\n",
    "Special attack is one of the more important stats a Pokemon can have. The same number of bins is used to visualize this data, according to Sturge's Rule."
   ]
  },
  {
   "cell_type": "code",
   "execution_count": 62,
   "metadata": {},
   "outputs": [
    {
     "data": {
      "image/png": "[encoded data removed]",
      "text/plain": [
       "<Figure size 432x288 with 1 Axes>"
      ]
     },
     "metadata": {
      "needs_background": "light"
     },
     "output_type": "display_data"
    }
   ],
   "source": [
    "#Showcasing the distribution of average pokemon special attack\n",
    "ax2 = bin_edges = np.arange(5, df_copy['special_attack'].max()+1, 11)\n",
    "ax2 = plt.hist(data = df_copy, x = 'special_attack', bins = bin_edges);"
   ]
  },
  {
   "cell_type": "markdown",
   "metadata": {},
   "source": [
    "As it can be derived from this right-skewed distribution, the majority of the Pokemon of our data has a \"special_attack\" stat value of approximately between 37 and 72. "
   ]
  },
  {
   "cell_type": "markdown",
   "metadata": {},
   "source": [
    "### 3.4) Univariate notes and observations\n",
    "\n",
    "> When it comes to unusual distributions, it was surprising to discover that so few Flying type Pokemon actually exist. The rest of the distributions yielded expected results, as they coincide with the mean values discovered by utilising the .describe() pandas function. The only change in that dataset that had to be done was regarding the histogram visualisation bins. Picking the wrong count of bins has an extremely huge impact on the insight(s) that can be derived from a visualisation, and this case is no exception.\n"
   ]
  },
  {
   "cell_type": "markdown",
   "metadata": {},
   "source": [
    "<a id='bi'></a>\n",
    "## 4) Bivariate Exploration\n",
    "\n",
    "> In this section, the investigation between pairs of variables in the dataset takes place. Specifically, the features regarding \"Generation\", \"Total\", \"Legendary\", \"Speed\", \"Type_1\" are pitted against each other to draw insights."
   ]
  },
  {
   "cell_type": "markdown",
   "metadata": {},
   "source": [
    "### 4.1) Which Pokemon generation introduced the least weak Pokemon?\n",
    "\n"
   ]
  },
  {
   "cell_type": "code",
   "execution_count": 74,
   "metadata": {},
   "outputs": [
    {
     "data": {
      "image/png": "[encoded data removed]",
      "text/plain": [
       "<Figure size 432x288 with 1 Axes>"
      ]
     },
     "metadata": {
      "needs_background": "light"
     },
     "output_type": "display_data"
    }
   ],
   "source": [
    "#Distribution of pokemon's overal stats across generations\n",
    "b = plt.scatter(data = df_copy, x = 'generation', y = 'total', alpha = 3/8);\n",
    "b = plt.xlabel(\"Generation\")\n",
    "b = plt.ylabel(\"Total Stats\")"
   ]
  },
  {
   "cell_type": "markdown",
   "metadata": {},
   "source": [
    "Interestingly enough, the generation that introduced the least weak Pokemon appears to be the fifth one. Which leads to..."
   ]
  },
  {
   "cell_type": "markdown",
   "metadata": {},
   "source": [
    "### 4.2) Which Pokemon generation introduced the fastest Pokemon?\n",
    "Since \"speed\" is one of the most focused features of this project, it is justifiable that another question would be asked regarding it."
   ]
  },
  {
   "cell_type": "code",
   "execution_count": 72,
   "metadata": {},
   "outputs": [
    {
     "data": {
      "image/png": "[encoded data removed]",
      "text/plain": [
       "<Figure size 432x288 with 1 Axes>"
      ]
     },
     "metadata": {
      "needs_background": "light"
     },
     "output_type": "display_data"
    }
   ],
   "source": [
    "#Showcasing the fastest Pokemon per generation via violin plotting\n",
    "violin_color = sb.color_palette()[0]\n",
    "sb.violinplot(data = df_copy, x = 'generation', y = 'speed', color = violin_color,\n",
    "              inner = \"point\",);\n"
   ]
  },
  {
   "cell_type": "markdown",
   "metadata": {},
   "source": [
    "It appears that the **third** generation is the one that introduced the fastest Pokemon, and that Pokemon is none other than..."
   ]
  },
  {
   "cell_type": "code",
   "execution_count": 77,
   "metadata": {},
   "outputs": [
    {
     "data": {
      "text/html": [
       "<div>\n",
       "<style scoped>\n",
       "    .dataframe tbody tr th:only-of-type {\n",
       "        vertical-align: middle;\n",
       "    }\n",
       "\n",
       "    .dataframe tbody tr th {\n",
       "        vertical-align: top;\n",
       "    }\n",
       "\n",
       "    .dataframe thead th {\n",
       "        text-align: right;\n",
       "    }\n",
       "</style>\n",
       "<table border=\"1\" class=\"dataframe\">\n",
       "  <thead>\n",
       "    <tr style=\"text-align: right;\">\n",
       "      <th></th>\n",
       "      <th>#</th>\n",
       "      <th>name</th>\n",
       "      <th>type_1</th>\n",
       "      <th>type_2</th>\n",
       "      <th>total</th>\n",
       "      <th>health_points</th>\n",
       "      <th>attack</th>\n",
       "      <th>defense</th>\n",
       "      <th>special_attack</th>\n",
       "      <th>special_defense</th>\n",
       "      <th>speed</th>\n",
       "      <th>generation</th>\n",
       "      <th>legendary</th>\n",
       "      <th>agility_level</th>\n",
       "    </tr>\n",
       "  </thead>\n",
       "  <tbody>\n",
       "    <tr>\n",
       "      <th>431</th>\n",
       "      <td>386</td>\n",
       "      <td>DeoxysSpeed Forme</td>\n",
       "      <td>Psychic</td>\n",
       "      <td>NaN</td>\n",
       "      <td>600</td>\n",
       "      <td>50</td>\n",
       "      <td>95</td>\n",
       "      <td>90</td>\n",
       "      <td>95</td>\n",
       "      <td>90</td>\n",
       "      <td>180</td>\n",
       "      <td>third</td>\n",
       "      <td>True</td>\n",
       "      <td>Extremely Fast</td>\n",
       "    </tr>\n",
       "  </tbody>\n",
       "</table>\n",
       "</div>"
      ],
      "text/plain": [
       "       #               name   type_1 type_2  total  health_points  attack  \\\n",
       "431  386  DeoxysSpeed Forme  Psychic    NaN    600             50      95   \n",
       "\n",
       "     defense  special_attack  special_defense  speed generation  legendary  \\\n",
       "431       90              95               90    180      third       True   \n",
       "\n",
       "      agility_level  \n",
       "431  Extremely Fast  "
      ]
     },
     "execution_count": 77,
     "metadata": {},
     "output_type": "execute_result"
    }
   ],
   "source": [
    "df_copy.query('speed == 180')"
   ]
  },
  {
   "cell_type": "markdown",
   "metadata": {},
   "source": [
    "... Deoxys Speed Forme, a special legendary among legendary Pokemon!"
   ]
  },
  {
   "cell_type": "markdown",
   "metadata": {},
   "source": [
    "### 4.3) Are Legendary Pokemon much stronger than common Pokemon?\n",
    "It's a common consensus that legendary Pokemon are stronger than their non-legendary counterparts, but by how much?"
   ]
  },
  {
   "cell_type": "code",
   "execution_count": 66,
   "metadata": {},
   "outputs": [
    {
     "data": {
      "image/png": "[encoded data removed]",
      "text/plain": [
       "<Figure size 432x288 with 1 Axes>"
      ]
     },
     "metadata": {
      "needs_background": "light"
     },
     "output_type": "display_data"
    }
   ],
   "source": [
    "#Plotting in a violin plot the \"legendary\" and \"total\" features\n",
    "violin_color = sb.color_palette()[1]\n",
    "sb.violinplot(data = df_copy, x = 'legendary', y = 'total', color = violin_color,\n",
    "              inner = 'point',);"
   ]
  },
  {
   "cell_type": "markdown",
   "metadata": {},
   "source": [
    "Now THAT is an extreme difference in power! The legendary Pokemon in the lower end of the distribution spectrum, or should I say, the weakest ones, are a fair match for the strongest non-legendary Pokemon in existense! "
   ]
  },
  {
   "cell_type": "markdown",
   "metadata": {},
   "source": [
    "### 4.4) Which Pokemon generation(s) have the weakest Special Attackers?\n",
    "It would be prudent to know which generations of Pokemon to avoid when trying to catch and train Special Attacker Pokemon."
   ]
  },
  {
   "cell_type": "code",
   "execution_count": 70,
   "metadata": {},
   "outputs": [
    {
     "data": {
      "image/png": "[encoded data removed]",
      "text/plain": [
       "<Figure size 432x288 with 1 Axes>"
      ]
     },
     "metadata": {
      "needs_background": "light"
     },
     "output_type": "display_data"
    }
   ],
   "source": [
    "#Visualizing the special attackers via seaborn's violinplot function\n",
    "violin_color = sb.color_palette()[3]\n",
    "ax = sb.violinplot(data = df_copy, x = 'generation', y = 'special_attack', color = violin_color,\n",
    "                   pallete = 'muted' , inner = 'point');"
   ]
  },
  {
   "cell_type": "markdown",
   "metadata": {},
   "source": [
    "It is fairly obvious that Special Attacker Pokemon enthusiasts should avoid Pokemon from the second and fourth generation as a rule of thumb, based on the graph above."
   ]
  },
  {
   "cell_type": "markdown",
   "metadata": {},
   "source": [
    "### 4.5) What are the strongest Pokemon types?\n",
    "That's a question that was asked to me numerous times across the years, and thanks to this data, it can be given a (straight) answer."
   ]
  },
  {
   "cell_type": "code",
   "execution_count": 81,
   "metadata": {},
   "outputs": [
    {
     "data": {
      "image/png": "[encoded data removed]",
      "text/plain": [
       "<Figure size 432x288 with 1 Axes>"
      ]
     },
     "metadata": {
      "needs_background": "light"
     },
     "output_type": "display_data"
    }
   ],
   "source": [
    "violin_color = sb.color_palette()[9]\n",
    "sb.violinplot(data = df_copy, x = 'type_1', y = 'total', color = violin_color,\n",
    "              inner = 'point', height = 20);\n",
    "\n"
   ]
  },
  {
   "cell_type": "markdown",
   "metadata": {},
   "source": [
    "It can be derived from the visualisation above that the strongest Pokemon type when it comes to \"total stats\" is no other than the \"Dragon\" type."
   ]
  },
  {
   "cell_type": "markdown",
   "metadata": {},
   "source": [
    "### 4.6) Bivariate notes and observations\n",
    "\n",
    "One eye-catching observation is the fact that the Dragon type is the type with the population with the most total stats among all types, although it may be justified, judging by how rare the type is (see 3.1). Certainly not all Pokemon types are born equal! But the most fascinating observation comes from 4.3); legendary Pokemon are not to be trifled with! Another really interesting observation has to do with the fastest Pokemon to exist. While it is indeed the fastest Pokemon, it is very fragile, with only fifty(50)! base Health Points!"
   ]
  },
  {
   "cell_type": "markdown",
   "metadata": {},
   "source": [
    "<a id='multi'></a>\n",
    "## 5) Multivariate Exploration\n",
    "\n",
    "> In this section, the investigation between three variables for each question  takes place. Specifically, the features regarding \"Generation\", \"Legendary\", \"Attack\", \"Special Attack\" and \"Speed\" are used for this purpose."
   ]
  },
  {
   "cell_type": "markdown",
   "metadata": {},
   "source": [
    "### 5.1) Which generation(s) introduced the strongest legendary Pokemon?"
   ]
  },
  {
   "cell_type": "markdown",
   "metadata": {},
   "source": [
    "The multivariate exploration is kickstarted with a scatterplot that tries to tackle the aforementioned question. Once again,  \n",
    "a \"legendary\" Pokemon is considered a Pokemon that is unique as a species."
   ]
  },
  {
   "cell_type": "code",
   "execution_count": 44,
   "metadata": {
    "scrolled": true
   },
   "outputs": [
    {
     "data": {
      "image/png": "[encoded data removed]",
      "text/plain": [
       "<Figure size 432x288 with 2 Axes>"
      ]
     },
     "metadata": {
      "needs_background": "light"
     },
     "output_type": "display_data"
    }
   ],
   "source": [
    "#Using matplotlib to showcase the strongest legendary Pokemon\n",
    "plt.scatter(data = df_copy, x = 'generation', y = 'total', c = 'legendary')\n",
    "plt.xlabel(\"Generation\")\n",
    "plt.ylabel(\"Total Stats\")\n",
    "plt.clim(0,1)\n",
    "plt.colorbar(label =\"Legendary Status\");"
   ]
  },
  {
   "cell_type": "markdown",
   "metadata": {},
   "source": [
    "As it is apparent from this graph, the strongest legendary Pokemon were introduced in the **first** and **third** generations. Next, the multivariate exploration continues with a comparison between Attacker and Special Attacker Pokemon, with factoring in whether a pokemon is legendary or not."
   ]
  },
  {
   "cell_type": "markdown",
   "metadata": {},
   "source": [
    "### 5.2) How do Special Attacker Pokemon compare to Attacker Pokemon?"
   ]
  },
  {
   "cell_type": "markdown",
   "metadata": {},
   "source": [
    "Following up the investigation of legendary Pokemon, further investigation led to the question imposed above, but more importantly, this was a question that was imposed by a third party interested in this project."
   ]
  },
  {
   "cell_type": "code",
   "execution_count": 57,
   "metadata": {},
   "outputs": [
    {
     "data": {
      "image/png": "[encoded data removed]",
      "text/plain": [
       "<Figure size 570.35x504 with 1 Axes>"
      ]
     },
     "metadata": {
      "needs_background": "light"
     },
     "output_type": "display_data"
    }
   ],
   "source": [
    "#Using seaborn's FacetGrid to showcase \n",
    "fg1 = sb.FacetGrid(data = df_copy, hue = 'legendary', height = 7,\n",
    "                 palette = 'colorblind')\n",
    "fg1.map(plt.scatter, 'special_attack', 'attack',)\n",
    "fg1.set_axis_labels(\"Special Attack\",\"Attack\")\n",
    "fg1.add_legend();\n",
    "fg1.fig.suptitle('Offensive Stats');"
   ]
  },
  {
   "cell_type": "markdown",
   "metadata": {},
   "source": [
    "It is not crystal-clear which specialized (Special Atk. or Attacker) category of Pokemon is the winner here, however\n",
    "it is obvious that ten(10) Attacker Pokemon have over 150 Attack, while only eight(8) Special Attacker Pokemon\n",
    "have over 150 Special Attack, legendary Pokemon included.\n",
    "Following up the investigation of Special Attacker Pokemon, further investigation led to the question imposed below."
   ]
  },
  {
   "cell_type": "markdown",
   "metadata": {},
   "source": [
    "### 5.3) How many Attacker Sweepers exist?"
   ]
  },
  {
   "cell_type": "markdown",
   "metadata": {},
   "source": [
    "\"Sweepers\" in pokemon communities are Pokemon that specialise in taking out other Pokemon quickly and efficiently; they usually\n",
    "excel at either Attack and Speed, or Special Attack and Speed to maximise their effectiveness in that role."
   ]
  },
  {
   "cell_type": "code",
   "execution_count": 56,
   "metadata": {},
   "outputs": [
    {
     "data": {
      "image/png": "[encoded data removed]",
      "text/plain": [
       "<Figure size 475.725x360 with 1 Axes>"
      ]
     },
     "metadata": {
      "needs_background": "light"
     },
     "output_type": "display_data"
    }
   ],
   "source": [
    "fg2 = sb.FacetGrid(data = df_copy, hue = 'agility_level', height = 5,\n",
    "                 palette = 'colorblind')\n",
    "fg2.map(plt.scatter, 'attack', 'speed',)\n",
    "fg2.set_axis_labels(\"Attack\",\"Speed\")\n",
    "fg2.add_legend();\n",
    "fg2.fig.suptitle('Showcasing Attacker Sweepers');"
   ]
  },
  {
   "cell_type": "markdown",
   "metadata": {},
   "source": [
    "By assessing the graph above, it is derived that there exist five(5) pokemon with \"Very Fast\" speed and way above average attack (over 150)."
   ]
  },
  {
   "cell_type": "markdown",
   "metadata": {},
   "source": [
    "<a id='edar'></a>\n",
    "## 6) Exploratory Data Analysis Results"
   ]
  },
  {
   "cell_type": "markdown",
   "metadata": {},
   "source": [
    "### General observations and insights\n",
    "\n",
    "> The end results of EDA turned out to be fruitful; there is a lot of useful information that can be derived from them. To begin with, a general observation that can be derived it is the fact that most Pokemons' total stats distribution are closer to their minimum values than they are to their maximum. In layman's terms, most Pokemon can be considered to be \"weak\", while fewer of them cane be considered to be \"strong\". Furthermore, a general consensus can be made that legendary Pokemon are stronger in every aspect than their non-legendary counterparts. Last, but not least, specific insights were drawn in the multivariate section of this reporting regarding offensive pokemon stats. To elaborate, only five(5) pokemon with \"Very Fast\" speed were the 150 Attack mark, while it was proven the top Attacker Pokemon are more numerous compared to the top Special Attacker Pokemon.\n",
    "\n",
    "### Surprising factors and interactions\n",
    "\n",
    "> The exploration of this dataset turned out some very interesting results. To begin with, it was not expected that the strongest legendary Pokemon were introduced in the first and third generations (check 5.1). One could think that since pokemon gradually increased in popularity, the power of legendary Pokemon would increase, but that was not the case, according to the data. Another surprising insight that occured during the investigation was the fact that as the generations advanced, lesser and lesser weak Pokemon were introduced, with this trend peaking at the fifth generation, as it's shown in 4.1) Last, but definitely not least, a surprising observation was displayed in 4.3), namely the difference in power between legendary and non-legendary Pokemon. Without a doubt, legendary Pokemon are a forced to be feared!\n"
   ]
  },
  {
   "cell_type": "markdown",
   "metadata": {},
   "source": [
    "<a id='con'></a>\n",
    "## 7) Conclusion\n",
    "\n",
    "To conclude, I have to confess that this project was an extremely educative experience. One of the most intuitive moments while working on this project was when I was communicating with third parties interested in Pokemon games to ask their  advice about what kind of questions they would like to have answered by this project. This helped me think out of the box and broaden my horizons about what I could accomplish with the data that was in my hands, and what I could not.\n",
    "\n",
    "In future iterations, this dataset may be expanded by utilizing web scraping techniques in order to enrich the data availability, thus further improving the insights that can be drawn from this project."
   ]
  },
  {
   "cell_type": "markdown",
   "metadata": {},
   "source": [
    "<a id='app'></a>\n",
    "## 8) Appendix\n",
    "\n",
    "Any supportive material that was used for the purpose of this project and data is referenced here. Moreover, unused code related or unrelated to the project may also be found below.\n",
    "\n",
    "\n",
    "\n",
    "- Dataset Source https://www.kaggle.com/abcsds/pokemon\n",
    "- \"How to Choose bin Sizes\" https://www.statisticshowto.com/choose-bin-sizes-statistics/\n",
    "- Bulbapedia, for confirming certain data :https://bulbapedia.bulbagarden.net/wiki/Main_Page\n",
    "- Library documentation where applicable\n",
    "\n"
   ]
  },
  {
   "cell_type": "code",
   "execution_count": 47,
   "metadata": {},
   "outputs": [],
   "source": [
    "#df['dual_type'] = np.where(df['type_1']=='Z', 'green', 'red')\n",
    "#df['dual_type'] = ['0' if x == 'Z' else 'green' for x in df['type_1']]\n",
    "#df['dual_type'] = df[['type_1, type_2']].apply(lambda x: x[''])\n",
    "#df[['type_1','type_2']].apply(lambda x: x['c'] if x['c']>0 else x['b'], axis=1)\n",
    "#df['type'] = df['type_1'].fillna(df['type_2'])\n",
    "#df['type'] = (df['type_1'].fillna('') + '/' + df['type_2'].fillna('')).str.strip('/')\n",
    "#df.drop(['type'], axis =1, inplace=True)"
   ]
  }
 ],
 "metadata": {
  "kernelspec": {
   "display_name": "Python 3",
   "language": "python",
   "name": "python3"
  },
  "language_info": {
   "codemirror_mode": {
    "name": "ipython",
    "version": 3
   },
   "file_extension": ".py",
   "mimetype": "text/x-python",
   "name": "python",
   "nbconvert_exporter": "python",
   "pygments_lexer": "ipython3",
   "version": "3.7.6"
  }
 },
 "nbformat": 4,
 "nbformat_minor": 2
}
